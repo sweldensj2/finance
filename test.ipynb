{
 "cells": [
  {
   "cell_type": "code",
   "execution_count": 2,
   "id": "f8e2e596-8a92-4569-8087-48b1e1d2efcc",
   "metadata": {},
   "outputs": [],
   "source": [
    "# Projects in Finance"
   ]
  },
  {
   "cell_type": "code",
   "execution_count": null,
   "id": "b01601d9-35d3-4ca4-90d3-ad7883173300",
   "metadata": {},
   "outputs": [],
   "source": []
  }
 ],
 "metadata": {
  "kernelspec": {
   "display_name": "Python 3 (ipykernel)",
   "language": "python",
   "name": "python3"
  },
  "language_info": {
   "codemirror_mode": {
    "name": "ipython",
    "version": 3
   },
   "file_extension": ".py",
   "mimetype": "text/x-python",
   "name": "python",
   "nbconvert_exporter": "python",
   "pygments_lexer": "ipython3",
   "version": "3.11.7"
  }
 },
 "nbformat": 4,
 "nbformat_minor": 5
}
