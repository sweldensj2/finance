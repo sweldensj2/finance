{
 "cells": [
  {
   "cell_type": "markdown",
   "metadata": {},
   "source": [
    "# Task 4: FICO Scores\n",
    "Charlie wants to make her model work for future data sets, so she needs a general approach to generating the buckets. Given a set number of buckets corresponding to the number of input labels for the model, she would like to find out the boundaries that best summarize the data. You need to create a rating map that maps the FICO score of the borrowers to a rating where a lower rating signifies a better credit score.\n",
    "\n",
    "The process of doing this is known as quantization. You could consider many ways of solving the problem by optimizing different properties of the resulting buckets, such as the mean squared error or log-likelihood (see below for definitions). For background on quantization, see here.\n",
    "\n",
    "Mean squared error\n",
    "\n",
    "You can view this question as an approximation problem and try to map all the entries in a bucket to one value, minimizing the associated squared error. We are now looking to minimize the following:\n",
    "\n",
    "Log-likelihood\n",
    "\n",
    "A more sophisticated possibility is to maximize the following log-likelihood function:\n",
    "\n",
    "Where bi is the bucket boundaries, ni is the number of records in each bucket, ki is the number of defaults in each bucket, and pi = ki / ni is the probability of default in the bucket. This function considers how rough the discretization is and the density of defaults in each bucket. This problem could be addressed by splitting it into subproblems, which can be solved incrementally (i.e., through a dynamic programming approach). For example, you can break the problem into two subproblems, creating five buckets for FICO scores ranging from 0 to 600 and five buckets for FICO scores ranging from 600 to 850. Refer to this page for more context behind a likelihood function. This page may also be helpful for background on dynamic programming. \n",
    "\n"
   ]
  },
  {
   "cell_type": "code",
   "execution_count": 1,
   "metadata": {},
   "outputs": [
    {
     "name": "stdout",
     "output_type": "stream",
     "text": [
      "Length of x: 10000\n",
      "Length of y: 10000\n"
     ]
    }
   ],
   "source": [
    "# Step 1: Load Data\n",
    "import pandas as pd\n",
    "import numpy as np\n",
    "\n",
    "df = pd.read_csv('Task 3 and 4_Loan_Data.csv')\n",
    "x = df['default'].to_list()        # binary labels: 1 if defaulted, 0 if not\n",
    "y = df['fico_score'].to_list()     # FICO scores\n",
    "n = len(x)\n",
    "\n",
    "print(\"Length of x:\", len(x))\n",
    "print(\"Length of y:\", len(y))"
   ]
  },
  {
   "cell_type": "markdown",
   "metadata": {},
   "source": [
    "### Step 2: Count defaults and totals for each FICO score\n",
    "We build two arrays:\n",
    "- `default[i]` = number of defaults at FICO = i + 300\n",
    "- `total[i]` = total number of people at FICO = i + 300\n",
    "\n",
    "This assumes FICO scores range from 300 to 850 (inclusive), giving us 551 possible values."
   ]
  },
  {
   "cell_type": "code",
   "execution_count": 2,
   "metadata": {},
   "outputs": [],
   "source": [
    "default = [0 for _ in range(551)]\n",
    "total = [0 for _ in range(551)]\n",
    "\n",
    "for i in range(n):\n",
    "    score = int(y[i]) - 300\n",
    "    default[score] += x[i]  # x[i] is 1 or 0\n",
    "    total[score] += 1"
   ]
  },
  {
   "cell_type": "markdown",
   "metadata": {},
   "source": [
    "### Step 3: Compute prefix sums\n",
    "We compute cumulative sums of defaults and totals for efficient range queries later."
   ]
  },
  {
   "cell_type": "code",
   "execution_count": 3,
   "metadata": {},
   "outputs": [
    {
     "name": "stdout",
     "output_type": "stream",
     "text": [
      "defaults:  [0, 0, 0, 0, 0, 0, 0, 0, 0, 0, 0, 0, 0, 0, 0, 0, 0, 0, 0, 0, 0, 0, 0, 0, 0, 0, 0, 0, 0, 0, 0, 0, 0, 0, 0, 0, 0, 0, 0, 0, 0, 0, 0, 0, 0, 0, 0, 0, 0, 0, 0, 0, 0, 0, 0, 0, 0, 0, 0, 0, 0, 0, 0, 0, 0, 0, 0, 0, 0, 0, 0, 0, 0, 0, 0, 0, 0, 0, 0, 0, 0, 0, 0, 0, 0, 0, 0, 0, 0, 0, 0, 0, 0, 0, 0, 0, 0, 0, 0, 0, 0, 0, 0, 0, 0, 0, 0, 0, 0, 1, 1, 1, 1, 1, 1, 1, 1, 1, 2, 2, 2, 2, 2, 2, 2, 3, 3, 3, 3, 3, 3, 3, 3, 3, 3, 3, 3, 3, 4, 4, 5, 6, 6, 6, 6, 6, 6, 6, 6, 7, 7, 7, 7, 7, 7, 9, 13, 13, 13, 13, 13, 14, 17, 18, 19, 21, 23, 24, 27, 29, 30, 31, 32, 33, 35, 36, 37, 38, 38, 40, 42, 46, 48, 52, 53, 57, 59, 63, 65, 67, 73, 74, 81, 81, 89, 91, 93, 97, 102, 106, 112, 117, 121, 124, 127, 131, 135, 137, 142, 146, 149, 154, 160, 162, 166, 171, 175, 180, 187, 192, 199, 206, 211, 213, 217, 218, 220, 230, 238, 243, 248, 255, 263, 269, 277, 283, 295, 300, 307, 312, 317, 328, 333, 341, 347, 357, 369, 375, 384, 397, 411, 418, 428, 433, 445, 453, 459, 470, 486, 494, 499, 509, 516, 535, 543, 553, 566, 581, 591, 600, 608, 617, 634, 644, 656, 668, 677, 688, 705, 722, 735, 745, 754, 769, 785, 795, 804, 817, 824, 838, 852, 866, 876, 887, 902, 912, 922, 935, 945, 960, 972, 983, 994, 1006, 1014, 1029, 1044, 1063, 1074, 1083, 1102, 1116, 1127, 1140, 1151, 1157, 1170, 1174, 1187, 1199, 1210, 1217, 1230, 1242, 1250, 1259, 1270, 1281, 1292, 1303, 1317, 1329, 1339, 1348, 1361, 1374, 1388, 1402, 1415, 1429, 1438, 1444, 1454, 1461, 1470, 1479, 1485, 1495, 1505, 1518, 1525, 1530, 1535, 1543, 1551, 1557, 1564, 1572, 1581, 1591, 1593, 1601, 1606, 1614, 1621, 1624, 1632, 1638, 1642, 1647, 1651, 1657, 1670, 1675, 1681, 1686, 1687, 1690, 1694, 1701, 1706, 1709, 1716, 1719, 1723, 1727, 1733, 1737, 1743, 1745, 1748, 1752, 1759, 1762, 1765, 1772, 1774, 1775, 1778, 1781, 1783, 1787, 1789, 1790, 1790, 1792, 1793, 1796, 1798, 1802, 1805, 1806, 1808, 1812, 1815, 1818, 1819, 1821, 1823, 1825, 1826, 1827, 1827, 1828, 1830, 1830, 1831, 1831, 1832, 1835, 1835, 1837, 1838, 1838, 1838, 1838, 1838, 1838, 1838, 1838, 1839, 1840, 1842, 1842, 1842, 1842, 1842, 1843, 1843, 1843, 1843, 1843, 1843, 1846, 1846, 1847, 1847, 1847, 1847, 1847, 1847, 1847, 1847, 1847, 1847, 1848, 1848, 1848, 1848, 1848, 1848, 1848, 1848, 1848, 1849, 1849, 1849, 1849, 1849, 1849, 1849, 1849, 1849, 1849, 1849, 1849, 1849, 1849, 1850, 1850, 1850, 1850, 1850, 1850, 1850, 1850, 1850, 1850, 1850, 1850, 1850, 1850, 1850, 1850, 1850, 1850, 1850, 1850, 1850, 1850, 1851, 1851, 1851, 1851, 1851, 1851, 1851, 1851, 1851, 1851, 1851, 1851, 1851, 1851, 1851, 1851, 1851, 1851, 1851, 1851, 1851, 1851, 1851, 1851, 1851, 1851, 1851, 1851, 1851, 1851, 1851, 1851, 1851, 1851, 1851, 1851, 1851, 1851, 1851, 1851, 1851]\n",
      "totals:,  [0, 0, 0, 0, 0, 0, 0, 0, 0, 0, 0, 0, 0, 0, 0, 0, 0, 0, 0, 0, 0, 0, 0, 0, 0, 0, 0, 0, 0, 0, 0, 0, 0, 0, 0, 0, 0, 0, 0, 0, 0, 0, 0, 0, 0, 0, 0, 0, 0, 0, 0, 0, 0, 0, 0, 0, 0, 0, 0, 0, 0, 0, 0, 0, 0, 0, 0, 0, 0, 0, 0, 0, 0, 0, 0, 0, 0, 0, 0, 0, 0, 0, 0, 0, 0, 0, 0, 0, 0, 0, 0, 0, 0, 0, 0, 0, 0, 0, 0, 0, 0, 0, 0, 0, 0, 0, 0, 0, 1, 2, 2, 2, 2, 2, 2, 2, 2, 2, 3, 3, 3, 3, 3, 3, 3, 4, 4, 4, 4, 4, 4, 4, 4, 4, 4, 4, 4, 4, 5, 5, 6, 7, 7, 7, 8, 8, 8, 9, 9, 10, 12, 12, 12, 12, 12, 14, 18, 18, 18, 20, 21, 22, 26, 27, 28, 30, 32, 34, 37, 39, 40, 42, 43, 44, 46, 48, 50, 51, 51, 54, 57, 65, 68, 74, 76, 80, 83, 88, 91, 94, 100, 101, 110, 112, 124, 126, 129, 134, 140, 147, 155, 162, 168, 176, 184, 189, 193, 197, 208, 212, 215, 226, 237, 241, 248, 256, 263, 271, 283, 291, 301, 316, 327, 337, 345, 356, 363, 381, 393, 406, 421, 434, 448, 463, 475, 491, 511, 527, 539, 556, 568, 585, 599, 618, 634, 651, 671, 688, 710, 736, 758, 781, 797, 816, 844, 886, 910, 936, 969, 995, 1017, 1049, 1080, 1120, 1145, 1178, 1205, 1241, 1273, 1304, 1328, 1364, 1406, 1442, 1479, 1513, 1549, 1589, 1625, 1665, 1708, 1761, 1792, 1840, 1891, 1940, 1982, 2050, 2079, 2122, 2169, 2218, 2266, 2321, 2369, 2412, 2455, 2515, 2572, 2623, 2682, 2723, 2773, 2835, 2882, 2938, 2977, 3037, 3084, 3133, 3201, 3269, 3342, 3404, 3461, 3519, 3583, 3649, 3705, 3764, 3840, 3893, 3961, 4021, 4089, 4145, 4227, 4283, 4349, 4420, 4476, 4540, 4595, 4666, 4739, 4808, 4883, 4947, 5013, 5090, 5146, 5219, 5276, 5344, 5404, 5474, 5538, 5612, 5667, 5734, 5807, 5869, 5931, 6010, 6073, 6132, 6201, 6264, 6325, 6392, 6437, 6505, 6574, 6630, 6685, 6741, 6794, 6849, 6913, 6981, 7037, 7098, 7164, 7227, 7288, 7341, 7376, 7426, 7478, 7534, 7588, 7632, 7684, 7745, 7794, 7846, 7890, 7950, 8007, 8049, 8104, 8138, 8189, 8235, 8277, 8317, 8343, 8398, 8427, 8472, 8516, 8549, 8580, 8611, 8642, 8670, 8707, 8749, 8786, 8828, 8860, 8893, 8939, 8987, 9012, 9038, 9061, 9083, 9117, 9148, 9180, 9202, 9227, 9250, 9282, 9305, 9332, 9349, 9366, 9384, 9404, 9426, 9447, 9467, 9484, 9502, 9517, 9538, 9552, 9569, 9583, 9601, 9616, 9636, 9647, 9653, 9669, 9680, 9693, 9716, 9727, 9736, 9750, 9758, 9763, 9769, 9775, 9783, 9791, 9801, 9809, 9815, 9816, 9824, 9830, 9834, 9842, 9848, 9850, 9859, 9864, 9867, 9875, 9877, 9883, 9888, 9891, 9897, 9900, 9908, 9913, 9914, 9918, 9920, 9923, 9930, 9932, 9937, 9938, 9942, 9946, 9951, 9952, 9954, 9955, 9955, 9957, 9960, 9964, 9966, 9969, 9971, 9972, 9973, 9974, 9976, 9978, 9978, 9981, 9982, 9985, 9985, 9986, 9986, 9987, 9987, 9988, 9988, 9988, 9988, 9988, 9988, 9990, 9991, 9992, 9993, 9995, 9995, 9996, 9996, 9996, 9998, 9998, 9998, 9998, 9999, 9999, 9999, 9999, 9999, 9999, 9999, 9999, 9999, 9999, 9999, 9999, 9999, 9999, 9999, 10000]\n"
     ]
    }
   ],
   "source": [
    "for i in range(1, 551):\n",
    "    default[i] += default[i - 1]\n",
    "    total[i] += total[i - 1]\n",
    "\n",
    "print(\"defaults: \", default)\n",
    "print(\"totals:, \", total)"
   ]
  },
  {
   "cell_type": "markdown",
   "metadata": {},
   "source": [
    "### Step 4: Define log-likelihood function for a binomial distribution\n",
    "We use the binomial log-likelihood of observing `k` defaults in `n` samples with empirical probability `p = k / n`."
   ]
  },
  {
   "cell_type": "code",
   "execution_count": 4,
   "metadata": {},
   "outputs": [],
   "source": [
    "def log_likelihood(n, k):\n",
    "    p = k / n\n",
    "    if p == 0 or p == 1:\n",
    "        return 0\n",
    "    return k * np.log(p) + (n - k) * np.log(1 - p)"
   ]
  },
  {
   "cell_type": "markdown",
   "metadata": {},
   "source": [
    "### Step 5: Dynamic Programming Initialization\n",
    "We define a DP table:\n",
    "- `dp[i][j][0]` = max log-likelihood for `i` buckets ending at index `j`\n",
    "- `dp[i][j][1]` = backtracking pointer to the previous split\n",
    "\n",
    "We initialize the DP table with very negative values to simulate `-inf`."
   ]
  },
  {
   "cell_type": "code",
   "execution_count": 5,
   "metadata": {},
   "outputs": [],
   "source": [
    "r = 10  # Number of desired buckets\n",
    "dp = [[[-10 ** 18, 0] for _ in range(551)] for _ in range(r + 1)]\n",
    "\n",
    "for i in range(r + 1):\n",
    "    for j in range(551):\n",
    "        if i == 0:\n",
    "            dp[i][j][0] = 0\n",
    "        else:\n",
    "            for k in range(j):\n",
    "                if total[j] == total[k]:\n",
    "                    continue\n",
    "                ll = log_likelihood(total[j] - total[k], default[j] - default[k])\n",
    "                if i == 1:\n",
    "                    dp[i][j][0] = ll\n",
    "                else:\n",
    "                    if dp[i][j][0] < dp[i - 1][k][0] + ll:\n",
    "                        dp[i][j][0] = dp[i - 1][k][0] + ll\n",
    "                        dp[i][j][1] = k"
   ]
  },
  {
   "cell_type": "markdown",
   "metadata": {},
   "source": [
    "### Step 6: Extract optimal result\n",
    "We extract the final log-likelihood and backtrack to recover the optimal bucket boundaries."
   ]
  },
  {
   "cell_type": "code",
   "execution_count": 6,
   "metadata": {},
   "outputs": [
    {
     "name": "stdout",
     "output_type": "stream",
     "text": [
      "Maximum Log-Likelihood: 0\n",
      "Bucket Boundaries (FICO): [300, 812, 814, 816, 822, 823, 824, 825, 826, 828, 850]\n"
     ]
    }
   ],
   "source": [
    "result = round(dp[r][550][0], 4)\n",
    "print(\"Maximum Log-Likelihood:\", result)\n",
    "\n",
    "# Recover bucket boundaries\n",
    "k = 550\n",
    "buckets = []\n",
    "while r >= 0:\n",
    "    buckets.append(k + 300)\n",
    "    k = dp[r][k][1]\n",
    "    r -= 1\n",
    "\n",
    "print(\"Bucket Boundaries (FICO):\", sorted(buckets))"
   ]
  }
 ],
 "metadata": {
  "kernelspec": {
   "display_name": "base",
   "language": "python",
   "name": "python3"
  },
  "language_info": {
   "codemirror_mode": {
    "name": "ipython",
    "version": 3
   },
   "file_extension": ".py",
   "mimetype": "text/x-python",
   "name": "python",
   "nbconvert_exporter": "python",
   "pygments_lexer": "ipython3",
   "version": "3.11.8"
  }
 },
 "nbformat": 4,
 "nbformat_minor": 2
}
