{
 "cells": [
  {
   "cell_type": "markdown",
   "metadata": {},
   "source": [
    "# Task 2: Natural Gas Contract Pricer\n",
    "This notebook sets the parameters and tests the pricing function on a few sample inputs"
   ]
  },
  {
   "cell_type": "code",
   "execution_count": null,
   "metadata": {},
   "outputs": [],
   "source": [
    "from test_cases import *"
   ]
  },
  {
   "cell_type": "markdown",
   "metadata": {},
   "source": [
    "### Test Case 1: Seasonal Arbitrage\n",
    "* Strategy: Buy gas in summer (low demand) at ~$2.10/MMBtu, sell in winter (high demand) at ~$4.80/MMBtu\n",
    "* Timeline: June-August injection, December-January withdrawal\n",
    "* Expected: High profit due to large seasonal price spread\n",
    "\n",
    "### Test Case 2: High Frequency Trading\n",
    "* Strategy: Quick buy/sell cycles with smaller spreads\n",
    "* Timeline: Weekly cycles in March\n",
    "* Expected: Lower profit per trade but more frequent opportunities\n",
    "\n",
    "### Test Case 3: Unprofitable Scenario\n",
    "* Strategy: Spring to fall storage with moderate price spread\n",
    "* Challenge: Very high storage costs ($0.05/MMBtu/day)\n",
    "* Expected: Negative value due to storage costs exceeding price spread"
   ]
  },
  {
   "cell_type": "code",
   "execution_count": 3,
   "metadata": {},
   "outputs": [
    {
     "name": "stdout",
     "output_type": "stream",
     "text": [
      "============================================================\n",
      "TEST CASE 1: Simple Seasonal Arbitrage\n",
      "============================================================\n",
      "Injection Period: Summer 2024\n",
      "  Dates: ['2024-06-15', '2024-07-01', '2024-08-15']\n",
      "  Prices: $[2.1, 2.05, 2.15] per MMBtu\n",
      "\n",
      "Withdrawal Period: Winter 2024-2025\n",
      "  Dates: ['2024-12-01', '2024-12-15', '2025-01-15']\n",
      "  Prices: $[4.5, 4.8, 5.2] per MMBtu\n",
      "\n",
      "Operational Parameters:\n",
      "  Pump Rate: 5,000 MMBtu/day\n",
      "  Max Storage: 100,000 MMBtu\n",
      "  Storage Cost: $0.005 per MMBtu/day\n",
      "\n",
      "------------------------------------------------------------\n",
      "All dates data structure:\n",
      "  2024-06-15: INJECT at price 2.1\n",
      "  2024-07-01: INJECT at price 2.05\n",
      "  2024-08-15: INJECT at price 2.15\n",
      "  2024-12-01: WITHDRAW at price 4.5\n",
      "  2024-12-15: WITHDRAW at price 4.8\n",
      "  2025-01-15: WITHDRAW at price 5.2\n",
      "\n",
      "Contract Value: $28,775.00\n",
      "ROI per MMBtu: $1.92\n",
      "\n",
      "\n",
      "============================================================\n",
      "TEST CASE 2: High Frequency Trading\n",
      "============================================================\n",
      "Injection Period: March 2024 (Weekly)\n",
      "  Dates: ['2024-03-01', '2024-03-05', '2024-03-10', '2024-03-15']\n",
      "  Prices: $[3.2, 3.15, 3.25, 3.1] per MMBtu\n",
      "\n",
      "Withdrawal Period: March 2024 (Weekly)\n",
      "  Dates: ['2024-03-03', '2024-03-08', '2024-03-12', '2024-03-18']\n",
      "  Prices: $[3.45, 3.4, 3.5, 3.35] per MMBtu\n",
      "\n",
      "Operational Parameters:\n",
      "  Pump Rate: 2,000 MMBtu/day\n",
      "  Max Storage: 20,000 MMBtu\n",
      "  Storage Cost: $0.010 per MMBtu/day\n",
      "\n",
      "------------------------------------------------------------\n",
      "All dates data structure:\n",
      "  2024-03-01: INJECT at price 3.2\n",
      "  2024-03-03: WITHDRAW at price 3.45\n",
      "  2024-03-05: INJECT at price 3.15\n",
      "  2024-03-08: WITHDRAW at price 3.4\n",
      "  2024-03-10: INJECT at price 3.25\n",
      "  2024-03-12: WITHDRAW at price 3.5\n",
      "  2024-03-15: INJECT at price 3.1\n",
      "  2024-03-18: WITHDRAW at price 3.35\n",
      "\n",
      "Contract Value: $1,800.00\n",
      "ROI per MMBtu: $0.23\n",
      "\n",
      "\n",
      "============================================================\n",
      "TEST CASE 3: Unprofitable Scenario (High Storage Costs)\n",
      "============================================================\n",
      "Injection Period: Spring 2024\n",
      "  Dates: ['2024-05-01', '2024-05-15']\n",
      "  Prices: $[2.8, 2.75] per MMBtu\n",
      "\n",
      "Withdrawal Period: Fall 2024\n",
      "  Dates: ['2024-11-01', '2024-11-15']\n",
      "  Prices: $[3.2, 3.25] per MMBtu\n",
      "\n",
      "Operational Parameters:\n",
      "  Pump Rate: 3,000 MMBtu/day\n",
      "  Max Storage: 50,000 MMBtu\n",
      "  Storage Cost: $0.050 per MMBtu/day (HIGH)\n",
      "\n",
      "------------------------------------------------------------\n",
      "All dates data structure:\n",
      "  2024-05-01: INJECT at price 2.8\n",
      "  2024-05-15: INJECT at price 2.75\n",
      "  2024-11-01: WITHDRAW at price 3.2\n",
      "  2024-11-15: WITHDRAW at price 3.25\n",
      "\n",
      "Contract Value: $-52,500.00\n",
      "ROI per MMBtu: $-8.75\n",
      "\n",
      "\n",
      "============================================================\n",
      "SUMMARY OF ALL TEST CASES\n",
      "============================================================\n",
      "Case 1 (Seasonal Arbitrage): $28,775.00\n",
      "Case 2 (High Frequency):    $1,800.00\n",
      "Case 3 (Unprofitable):      $-52,500.00\n",
      "============================================================\n"
     ]
    },
    {
     "data": {
      "text/plain": [
       "{'case_1': 28775.0, 'case_2': 1800.0, 'case_3': -52500.0}"
      ]
     },
     "execution_count": 3,
     "metadata": {},
     "output_type": "execute_result"
    }
   ],
   "source": [
    "# Run Test Cases\n",
    "test_seasonal_arbitrage()"
   ]
  },
  {
   "cell_type": "markdown",
   "metadata": {},
   "source": []
  }
 ],
 "metadata": {
  "kernelspec": {
   "display_name": ".venv",
   "language": "python",
   "name": "python3"
  },
  "language_info": {
   "codemirror_mode": {
    "name": "ipython",
    "version": 3
   },
   "file_extension": ".py",
   "mimetype": "text/x-python",
   "name": "python",
   "nbconvert_exporter": "python",
   "pygments_lexer": "ipython3",
   "version": "3.11.6"
  }
 },
 "nbformat": 4,
 "nbformat_minor": 2
}
