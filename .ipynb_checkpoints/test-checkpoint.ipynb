{
 "cells": [
  {
   "cell_type": "code",
   "execution_count": 2,
   "id": "f8e2e596-8a92-4569-8087-48b1e1d2efcc",
   "metadata": {},
   "outputs": [],
   "source": [
    "# Projects in Finance"
   ]
  },
  {
   "cell_type": "code",
   "execution_count": 9,
   "id": "b01601d9-35d3-4ca4-90d3-ad7883173300",
   "metadata": {},
   "outputs": [],
   "source": [
    "# Main Imports\n",
    "\n",
    "import yfinance as yf \n",
    "import numpy as np\n",
    "import plotly.io as pio\n",
    "import plotly.graph_objects as go\n"
   ]
  },
  {
   "cell_type": "code",
   "execution_count": 16,
   "id": "14c43573-2955-4ce0-8eb3-81d0c06b72e2",
   "metadata": {},
   "outputs": [
    {
     "name": "stdout",
     "output_type": "stream",
     "text": [
      "stock yfinance.Ticker object <TGT>\n",
      "price                                  Open        High         Low       Close   \n",
      "Date                                                                        \n",
      "2024-01-11 00:00:00-05:00  142.456940  142.456940  138.996573  140.012009  \\\n",
      "2024-01-12 00:00:00-05:00  140.682394  141.126029  138.681097  138.917709   \n",
      "2024-01-16 00:00:00-05:00  140.179615  140.445801  137.941705  139.075455   \n",
      "2024-01-17 00:00:00-05:00  138.099447  138.759972  136.433339  136.778397   \n",
      "2024-01-18 00:00:00-05:00  136.669941  137.153004  133.751786  135.457321   \n",
      "...                               ...         ...         ...         ...   \n",
      "2024-07-03 00:00:00-04:00  145.320007  146.229996  144.369995  144.800003   \n",
      "2024-07-05 00:00:00-04:00  144.539993  146.429993  144.500000  145.649994   \n",
      "2024-07-08 00:00:00-04:00  151.860001  151.970001  147.789993  148.720001   \n",
      "2024-07-09 00:00:00-04:00  148.000000  149.619995  147.229996  147.600006   \n",
      "2024-07-10 00:00:00-04:00  147.449997  147.449997  143.410004  146.110001   \n",
      "\n",
      "                            Volume  Dividends  Stock Splits  \n",
      "Date                                                         \n",
      "2024-01-11 00:00:00-05:00  3215300        0.0           0.0  \n",
      "2024-01-12 00:00:00-05:00  2236400        0.0           0.0  \n",
      "2024-01-16 00:00:00-05:00  3482400        0.0           0.0  \n",
      "2024-01-17 00:00:00-05:00  3566300        0.0           0.0  \n",
      "2024-01-18 00:00:00-05:00  4160700        0.0           0.0  \n",
      "...                            ...        ...           ...  \n",
      "2024-07-03 00:00:00-04:00  1633300        0.0           0.0  \n",
      "2024-07-05 00:00:00-04:00  3562200        0.0           0.0  \n",
      "2024-07-08 00:00:00-04:00  5183800        0.0           0.0  \n",
      "2024-07-09 00:00:00-04:00  2848400        0.0           0.0  \n",
      "2024-07-10 00:00:00-04:00  4103700        0.0           0.0  \n",
      "\n",
      "[124 rows x 7 columns]\n",
      "meta {'currency': 'USD', 'symbol': 'TGT', 'exchangeName': 'NYQ', 'fullExchangeName': 'NYSE', 'instrumentType': 'EQUITY', 'firstTradeDate': 99153000, 'regularMarketTime': 1720641602, 'hasPrePostMarketData': True, 'gmtoffset': -14400, 'timezone': 'EDT', 'exchangeTimezoneName': 'America/New_York', 'regularMarketPrice': 146.11, 'fiftyTwoWeekHigh': 147.45, 'fiftyTwoWeekLow': 143.405, 'regularMarketDayHigh': 147.45, 'regularMarketDayLow': 143.405, 'regularMarketVolume': 4093396, 'chartPreviousClose': 144.09, 'priceHint': 2, 'currentTradingPeriod': {'pre': {'timezone': 'EDT', 'start': 1720598400, 'end': 1720618200, 'gmtoffset': -14400}, 'regular': {'timezone': 'EDT', 'start': 1720618200, 'end': 1720641600, 'gmtoffset': -14400}, 'post': {'timezone': 'EDT', 'start': 1720641600, 'end': 1720656000, 'gmtoffset': -14400}}, 'dataGranularity': '1d', 'range': '6mo', 'validRanges': ['1d', '5d', '1mo', '3mo', '6mo', '1y', '2y', '5y', '10y', 'ytd', 'max']}\n",
      "actions                            Dividends  Stock Splits\n",
      "Date                                              \n",
      "2024-02-20 00:00:00-05:00        1.1           0.0\n",
      "2024-05-14 00:00:00-04:00        1.1           0.0\n",
      "dividends Date\n",
      "2024-02-20 00:00:00-05:00    1.1\n",
      "2024-05-14 00:00:00-04:00    1.1\n",
      "Name: Dividends, dtype: float64\n",
      "splits Series([], Name: Stock Splits, dtype: float64)\n"
     ]
    }
   ],
   "source": [
    "stock = yf.Ticker(\"TGT\")\n",
    "price = stock.history(period=\"6mo\")\n",
    "meta = stock.history_metadata\n",
    "\n",
    "actions = stock.actions\n",
    "dividends = stock.dividends\n",
    "splits = stock.splits\n",
    "\n",
    "\n",
    "\n",
    "print(\"stock\", stock)\n",
    "print(\"price\", price)\n",
    "print(\"meta\", meta)\n",
    "\n",
    "print(\"actions\", actions)\n",
    "print(\"dividends\", dividends)\n",
    "print(\"splits\", splits)\n",
    "\n",
    "\n"
   ]
  },
  {
   "cell_type": "code",
   "execution_count": 17,
   "id": "55eb954b-2d71-4a47-bea6-b899e8460449",
   "metadata": {},
   "outputs": [
    {
     "ename": "BrokenPipeError",
     "evalue": "[Errno 32] Broken pipe",
     "output_type": "error",
     "traceback": [
      "\u001b[0;31m---------------------------------------------------------------------------\u001b[0m",
      "\u001b[0;31mBrokenPipeError\u001b[0m                           Traceback (most recent call last)",
      "\u001b[0;31mBrokenPipeError\u001b[0m: [Errno 32] Broken pipe",
      "\nDuring handling of the above exception, another exception occurred:\n",
      "\u001b[0;31mBrokenPipeError\u001b[0m                           Traceback (most recent call last)",
      "Cell \u001b[0;32mIn[17], line 8\u001b[0m\n\u001b[1;32m      6\u001b[0m \u001b[38;5;28;01mfor\u001b[39;00m yy \u001b[38;5;129;01min\u001b[39;00m [\u001b[38;5;124m'\u001b[39m\u001b[38;5;124mHigh\u001b[39m\u001b[38;5;124m'\u001b[39m, \u001b[38;5;124m'\u001b[39m\u001b[38;5;124mLow\u001b[39m\u001b[38;5;124m'\u001b[39m]:\n\u001b[1;32m      7\u001b[0m     fig\u001b[38;5;241m.\u001b[39madd_traces(go\u001b[38;5;241m.\u001b[39mScatter(x \u001b[38;5;241m=\u001b[39m price\u001b[38;5;241m.\u001b[39mindex, y \u001b[38;5;241m=\u001b[39m price[yy], mode\u001b[38;5;241m=\u001b[39m\u001b[38;5;124m'\u001b[39m\u001b[38;5;124mlines\u001b[39m\u001b[38;5;124m'\u001b[39m, name \u001b[38;5;241m=\u001b[39m yy))\n\u001b[0;32m----> 8\u001b[0m fig\u001b[38;5;241m.\u001b[39mshow()\n",
      "File \u001b[0;32m/opt/anaconda3/lib/python3.11/site-packages/plotly/basedatatypes.py:3398\u001b[0m, in \u001b[0;36mBaseFigure.show\u001b[0;34m(self, *args, **kwargs)\u001b[0m\n\u001b[1;32m   3365\u001b[0m \u001b[38;5;250m\u001b[39m\u001b[38;5;124;03m\"\"\"\u001b[39;00m\n\u001b[1;32m   3366\u001b[0m \u001b[38;5;124;03mShow a figure using either the default renderer(s) or the renderer(s)\u001b[39;00m\n\u001b[1;32m   3367\u001b[0m \u001b[38;5;124;03mspecified by the renderer argument\u001b[39;00m\n\u001b[0;32m   (...)\u001b[0m\n\u001b[1;32m   3394\u001b[0m \u001b[38;5;124;03mNone\u001b[39;00m\n\u001b[1;32m   3395\u001b[0m \u001b[38;5;124;03m\"\"\"\u001b[39;00m\n\u001b[1;32m   3396\u001b[0m \u001b[38;5;28;01mimport\u001b[39;00m \u001b[38;5;21;01mplotly\u001b[39;00m\u001b[38;5;21;01m.\u001b[39;00m\u001b[38;5;21;01mio\u001b[39;00m \u001b[38;5;28;01mas\u001b[39;00m \u001b[38;5;21;01mpio\u001b[39;00m\n\u001b[0;32m-> 3398\u001b[0m \u001b[38;5;28;01mreturn\u001b[39;00m pio\u001b[38;5;241m.\u001b[39mshow(\u001b[38;5;28mself\u001b[39m, \u001b[38;5;241m*\u001b[39margs, \u001b[38;5;241m*\u001b[39m\u001b[38;5;241m*\u001b[39mkwargs)\n",
      "File \u001b[0;32m/opt/anaconda3/lib/python3.11/site-packages/plotly/io/_renderers.py:403\u001b[0m, in \u001b[0;36mshow\u001b[0;34m(fig, renderer, validate, **kwargs)\u001b[0m\n\u001b[1;32m    400\u001b[0m     ipython_display\u001b[38;5;241m.\u001b[39mdisplay(bundle, raw\u001b[38;5;241m=\u001b[39m\u001b[38;5;28;01mTrue\u001b[39;00m)\n\u001b[1;32m    402\u001b[0m \u001b[38;5;66;03m# external renderers\u001b[39;00m\n\u001b[0;32m--> 403\u001b[0m renderers\u001b[38;5;241m.\u001b[39m_perform_external_rendering(fig_dict, renderers_string\u001b[38;5;241m=\u001b[39mrenderer, \u001b[38;5;241m*\u001b[39m\u001b[38;5;241m*\u001b[39mkwargs)\n",
      "File \u001b[0;32m/opt/anaconda3/lib/python3.11/site-packages/plotly/io/_renderers.py:340\u001b[0m, in \u001b[0;36mRenderersConfig._perform_external_rendering\u001b[0;34m(self, fig_dict, renderers_string, **kwargs)\u001b[0m\n\u001b[1;32m    337\u001b[0m     \u001b[38;5;28;01mif\u001b[39;00m \u001b[38;5;28mhasattr\u001b[39m(renderer, k):\n\u001b[1;32m    338\u001b[0m         \u001b[38;5;28msetattr\u001b[39m(renderer, k, v)\n\u001b[0;32m--> 340\u001b[0m renderer\u001b[38;5;241m.\u001b[39mrender(fig_dict)\n",
      "File \u001b[0;32m/opt/anaconda3/lib/python3.11/site-packages/plotly/io/_base_renderers.py:759\u001b[0m, in \u001b[0;36mBrowserRenderer.render\u001b[0;34m(self, fig_dict)\u001b[0m\n\u001b[1;32m    744\u001b[0m \u001b[38;5;28;01mfrom\u001b[39;00m \u001b[38;5;21;01mplotly\u001b[39;00m\u001b[38;5;21;01m.\u001b[39;00m\u001b[38;5;21;01mio\u001b[39;00m \u001b[38;5;28;01mimport\u001b[39;00m to_html\n\u001b[1;32m    746\u001b[0m html \u001b[38;5;241m=\u001b[39m to_html(\n\u001b[1;32m    747\u001b[0m     fig_dict,\n\u001b[1;32m    748\u001b[0m     config\u001b[38;5;241m=\u001b[39m\u001b[38;5;28mself\u001b[39m\u001b[38;5;241m.\u001b[39mconfig,\n\u001b[0;32m   (...)\u001b[0m\n\u001b[1;32m    757\u001b[0m     validate\u001b[38;5;241m=\u001b[39m\u001b[38;5;28;01mFalse\u001b[39;00m,\n\u001b[1;32m    758\u001b[0m )\n\u001b[0;32m--> 759\u001b[0m open_html_in_browser(html, \u001b[38;5;28mself\u001b[39m\u001b[38;5;241m.\u001b[39musing, \u001b[38;5;28mself\u001b[39m\u001b[38;5;241m.\u001b[39mnew, \u001b[38;5;28mself\u001b[39m\u001b[38;5;241m.\u001b[39mautoraise)\n",
      "File \u001b[0;32m/opt/anaconda3/lib/python3.11/site-packages/plotly/io/_base_renderers.py:704\u001b[0m, in \u001b[0;36mopen_html_in_browser\u001b[0;34m(html, using, new, autoraise)\u001b[0m\n\u001b[1;32m    701\u001b[0m         \u001b[38;5;28;01mpass\u001b[39;00m\n\u001b[1;32m    703\u001b[0m server \u001b[38;5;241m=\u001b[39m HTTPServer((\u001b[38;5;124m\"\u001b[39m\u001b[38;5;124m127.0.0.1\u001b[39m\u001b[38;5;124m\"\u001b[39m, \u001b[38;5;241m0\u001b[39m), OneShotRequestHandler)\n\u001b[0;32m--> 704\u001b[0m browser\u001b[38;5;241m.\u001b[39mopen(\n\u001b[1;32m    705\u001b[0m     \u001b[38;5;124m\"\u001b[39m\u001b[38;5;124mhttp://127.0.0.1:\u001b[39m\u001b[38;5;132;01m%s\u001b[39;00m\u001b[38;5;124m\"\u001b[39m \u001b[38;5;241m%\u001b[39m server\u001b[38;5;241m.\u001b[39mserver_port, new\u001b[38;5;241m=\u001b[39mnew, autoraise\u001b[38;5;241m=\u001b[39mautoraise\n\u001b[1;32m    706\u001b[0m )\n\u001b[1;32m    708\u001b[0m server\u001b[38;5;241m.\u001b[39mhandle_request()\n",
      "File \u001b[0;32m/opt/anaconda3/lib/python3.11/webbrowser.py:707\u001b[0m, in \u001b[0;36mMacOSXOSAScript.open\u001b[0;34m(self, url, new, autoraise)\u001b[0m\n\u001b[1;32m    704\u001b[0m     \u001b[38;5;28;01mreturn\u001b[39;00m \u001b[38;5;28;01mFalse\u001b[39;00m\n\u001b[1;32m    706\u001b[0m osapipe\u001b[38;5;241m.\u001b[39mwrite(script)\n\u001b[0;32m--> 707\u001b[0m rc \u001b[38;5;241m=\u001b[39m osapipe\u001b[38;5;241m.\u001b[39mclose()\n\u001b[1;32m    708\u001b[0m \u001b[38;5;28;01mreturn\u001b[39;00m \u001b[38;5;129;01mnot\u001b[39;00m rc\n",
      "File \u001b[0;32m<frozen os>:1005\u001b[0m, in \u001b[0;36mclose\u001b[0;34m(self)\u001b[0m\n",
      "\u001b[0;31mBrokenPipeError\u001b[0m: [Errno 32] Broken pipe"
     ]
    }
   ],
   "source": [
    "# Plotting stuff?\n",
    "pio.renderers.default = 'browser'\n",
    "pio.templates.default = 'plotly_white'\n",
    "\n",
    "fig = go.Figure()\n",
    "for yy in ['High', 'Low']:\n",
    "    fig.add_traces(go.Scatter(x = price.index, y = price[yy], mode='lines', name = yy))\n",
    "fig.show()"
   ]
  },
  {
   "cell_type": "code",
   "execution_count": 20,
   "id": "77a9e642-b7ad-4700-94c4-9b06b6bb4c3a",
   "metadata": {},
   "outputs": [
    {
     "name": "stderr",
     "output_type": "stream",
     "text": [
      "[*********************100%%**********************]  1 of 1 completed"
     ]
    },
    {
     "name": "stdout",
     "output_type": "stream",
     "text": [
      "data                   Open        High         Low       Close   Adj Close   \n",
      "Date                                                                     \n",
      "2020-01-02   74.059998   75.150002   73.797501   75.087502   72.960472  \\\n",
      "2020-01-03   74.287498   75.144997   74.125000   74.357498   72.251137   \n",
      "2020-01-06   73.447502   74.989998   73.187500   74.949997   72.826851   \n",
      "2020-01-07   74.959999   75.224998   74.370003   74.597504   72.484360   \n",
      "2020-01-08   74.290001   76.110001   74.290001   75.797501   73.650352   \n",
      "...                ...         ...         ...         ...         ...   \n",
      "2020-12-24  131.320007  133.460007  131.100006  131.970001  129.339020   \n",
      "2020-12-28  133.990005  137.339996  133.509995  136.690002  133.964951   \n",
      "2020-12-29  138.050003  138.789993  134.339996  134.869995  132.181213   \n",
      "2020-12-30  135.580002  135.990005  133.399994  133.720001  131.054138   \n",
      "2020-12-31  134.080002  134.740005  131.720001  132.690002  130.044662   \n",
      "\n",
      "               Volume  \n",
      "Date                   \n",
      "2020-01-02  135480400  \n",
      "2020-01-03  146322800  \n",
      "2020-01-06  118387200  \n",
      "2020-01-07  108872000  \n",
      "2020-01-08  132079200  \n",
      "...               ...  \n",
      "2020-12-24   54930100  \n",
      "2020-12-28  124486200  \n",
      "2020-12-29  121047300  \n",
      "2020-12-30   96452100  \n",
      "2020-12-31   99116600  \n",
      "\n",
      "[253 rows x 6 columns]\n"
     ]
    },
    {
     "name": "stderr",
     "output_type": "stream",
     "text": [
      "\n"
     ]
    }
   ],
   "source": [
    "import matplotlib.pyplot as plt\n",
    "\n",
    "data = yf.download(\"AAPL\", start=\"2020-01-01\", end=\"2021-01-01\")\n",
    "print(\"data\", data)\n",
    "\n",
    "# data['Close'].plot()\n",
    "\n",
    "# plt.title(\"Apple Stock Prices\")\n",
    "# plt.show()"
   ]
  },
  {
   "cell_type": "code",
   "execution_count": null,
   "id": "cf61ad2c-318c-4ab4-a472-010327bab3c5",
   "metadata": {},
   "outputs": [],
   "source": []
  }
 ],
 "metadata": {
  "kernelspec": {
   "display_name": "Python 3 (ipykernel)",
   "language": "python",
   "name": "python3"
  },
  "language_info": {
   "codemirror_mode": {
    "name": "ipython",
    "version": 3
   },
   "file_extension": ".py",
   "mimetype": "text/x-python",
   "name": "python",
   "nbconvert_exporter": "python",
   "pygments_lexer": "ipython3",
   "version": "3.11.7"
  }
 },
 "nbformat": 4,
 "nbformat_minor": 5
}
